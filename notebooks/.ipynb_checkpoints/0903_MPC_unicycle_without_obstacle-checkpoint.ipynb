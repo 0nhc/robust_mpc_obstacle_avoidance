{
 "cells": [
  {
   "cell_type": "code",
   "execution_count": 1,
   "id": "90afe694",
   "metadata": {},
   "outputs": [],
   "source": [
    "import matplotlib.pyplot as plt\n",
    "%matplotlib inline  \n",
    "%load_ext autoreload\n",
    "%autoreload 2\n",
    "import numpy as np\n",
    "import time\n",
    "import random\n",
    "def print_np(x):\n",
    "    print (\"Type is %s\" % (type(x)))\n",
    "    print (\"Shape is %s\" % (x.shape,))\n",
    "#     print (\"Values are: \\n%s\" % (x))"
   ]
  },
  {
   "cell_type": "code",
   "execution_count": 2,
   "id": "9bd07490",
   "metadata": {},
   "outputs": [
    {
     "name": "stdout",
     "output_type": "stream",
     "text": [
      "(CVXPY) Sep 06 07:02:13 PM: Encountered unexpected exception importing solver SCS:\n",
      "ImportError(\"dlopen(/opt/anaconda3/envs/py309/lib/python3.9/site-packages/_scs_direct.cpython-39-darwin.so, 0x0002): Library not loaded: @rpath/liblapack.3.dylib\\n  Referenced from: /opt/anaconda3/envs/py309/lib/python3.9/site-packages/_scs_direct.cpython-39-darwin.so\\n  Reason: tried: '/opt/anaconda3/envs/py309/lib/python3.9/site-packages/../../liblapack.3.dylib' (no such file), '/opt/anaconda3/envs/py309/lib/python3.9/site-packages/../../liblapack.3.dylib' (no such file), '/opt/anaconda3/envs/py309/bin/../lib/liblapack.3.dylib' (no such file), '/opt/anaconda3/envs/py309/bin/../lib/liblapack.3.dylib' (no such file), '/usr/local/lib/liblapack.3.dylib' (no such file), '/usr/lib/liblapack.3.dylib' (no such file)\")\n"
     ]
    }
   ],
   "source": [
    "import sys\n",
    "# sys.path.append('../')\n",
    "sys.path.append('../')\n",
    "sys.path.append('../model')\n",
    "sys.path.append('../cost')\n",
    "sys.path.append('../constraints')\n",
    "import UnicycleModel\n",
    "import FinaltimeFreeCost\n",
    "import UnicycleCost\n",
    "import UnicycleConstraints\n",
    "from scipy.integrate import solve_ivp\n",
    "from PTR_tf_free import PTR_tf_free\n",
    "from PTR_in_MPC import PTR_in_MPC\n",
    "from Scaling import TrajectoryScaling\n",
    "from scipy.interpolate import interp1d\n",
    "from scipy.integrate import solve_ivp"
   ]
  },
  {
   "cell_type": "markdown",
   "id": "08b90769",
   "metadata": {},
   "source": [
    "## Nominal trajectory generation"
   ]
  },
  {
   "cell_type": "code",
   "execution_count": 3,
   "id": "da8a6a76",
   "metadata": {},
   "outputs": [],
   "source": [
    "ix = 3\n",
    "iu = 2\n",
    "ih = 2\n",
    "N = 50\n",
    "tf = 10\n",
    "delT = tf/N\n",
    "max_iter = 30"
   ]
  },
  {
   "cell_type": "code",
   "execution_count": 4,
   "id": "6fff32cc",
   "metadata": {},
   "outputs": [],
   "source": [
    "x_max = np.array([5,5,np.deg2rad(90)])\n",
    "x_min = np.zeros(ix)\n",
    "\n",
    "u_max = np.array([2,np.deg2rad(90)]) \n",
    "u_min = np.array([0,0])\n",
    "\n",
    "\n",
    "myScaling = TrajectoryScaling(x_min,x_max,u_min,u_max,tf)\n",
    "Sx,iSx,sx,Su,iSu,su = myScaling.get_scaling()"
   ]
  },
  {
   "cell_type": "code",
   "execution_count": 5,
   "id": "ccf3ed83",
   "metadata": {},
   "outputs": [],
   "source": [
    "myModel = UnicycleModel.unicycle('Hello',ix,iu,'numeric_central')\n",
    "myCost = FinaltimeFreeCost.Finaltime('Hello',ix,iu,N)\n",
    "myConst = UnicycleConstraints.UnicycleConstraints('Hello',ix,iu)"
   ]
  },
  {
   "cell_type": "code",
   "execution_count": 6,
   "id": "d9248238",
   "metadata": {},
   "outputs": [],
   "source": [
    "xi = np.zeros(3)\n",
    "xi[0] = -5.0\n",
    "xi[1] = -5.0 \n",
    "xi[2] = 0\n",
    "\n",
    "xf = np.zeros(3)\n",
    "xf[0] = 5.0\n",
    "xf[1] = 5.0\n",
    "xf[2] = 0\n",
    "\n",
    "\n",
    "x0 = np.zeros((N+1,ix))\n",
    "for i in range(N+1) :\n",
    "    x0[i] = (N-i)/N * xi + i/N * xf\n",
    "    \n",
    "u0 = np.zeros((N+1,iu))\n",
    "ui = np.array([2,0])\n",
    "uf = np.array([2,0])\n",
    "\n",
    "for i in range(N+1) :\n",
    "    u0[i] = (N-i)/N * ui + i/N * uf"
   ]
  },
  {
   "cell_type": "code",
   "execution_count": 7,
   "id": "f4caeefc",
   "metadata": {
    "scrolled": false
   },
   "outputs": [
    {
     "name": "stdout",
     "output_type": "stream",
     "text": [
      "iteration   total_cost        cost        ||vc||     ||tr||       reduction   w_tr        dynamics\n",
      "1           5.696             5.000       1.95e-12    6.96        4.3         0.100       0(0.128)\n",
      "2           7.734             6.976       3.95e-12    7.57        -2.04       0.100       0(0.0652)\n",
      "3           7.324             7.132       3.9e-13     1.92        0.409       0.100       0(0.0153)\n",
      "4           7.256             7.253       1.06e-11    0.0302      0.0685      0.100       1(0.000274)\n",
      "5           7.252             7.251       8.5e-12     0.0098      0.00348     0.100       1(2.3e-05)\n",
      "6           7.251             7.250       1.46e-12    0.00635     0.00153     0.100       1(1.8e-05)\n",
      "7           7.250             7.250       1.01e-12    0.00157     0.000715    0.100       1(3.7e-06)\n",
      "8           7.250             7.250       8.91e-13    0.00109     0.000236    0.100       1(1.6e-06)\n",
      "9           7.250             7.250       7.81e-13    0.000881    0.000185    0.100       1(1.31e-06)\n",
      "SUCCEESS: virtual control and trust region < tol\n",
      "final time 7.2495603290843835\n"
     ]
    }
   ],
   "source": [
    "TrajOpt = PTR_tf_free('unicycle',N,tf,max_iter,myModel,myCost,myConst,myScaling,\n",
    "          type_discretization=\"foh\",w_c=1,w_vc=1e3,w_tr=1e-1,w_rate=0,tol_vc=1e-6,tol_tr=1e-3)\n",
    "xfwd,ufwd,xbar,ubar,tfbar,total_num_iter,flag_boundary,l,l_vc,l_tr,x_traj,u_traj,T_traj  = TrajOpt.run(x0,u0,xi,xf)\n",
    "print(\"final time {:}\".format(tfbar))"
   ]
  },
  {
   "cell_type": "code",
   "execution_count": 8,
   "id": "0c24bdc7",
   "metadata": {},
   "outputs": [],
   "source": [
    "t_index = np.array([i for i in range(N+1)]) / N * tfbar"
   ]
  },
  {
   "cell_type": "code",
   "execution_count": 9,
   "id": "7735be8d",
   "metadata": {},
   "outputs": [
    {
     "data": {
      "text/plain": [
       "7.2495603290843835"
      ]
     },
     "execution_count": 9,
     "metadata": {},
     "output_type": "execute_result"
    }
   ],
   "source": [
    "tfbar"
   ]
  },
  {
   "cell_type": "markdown",
   "id": "ef9ced31",
   "metadata": {},
   "source": [
    "## Set MPC controller without obstacle"
   ]
  },
  {
   "cell_type": "markdown",
   "id": "f5c9a420",
   "metadata": {},
   "source": [
    "### nominal trajectory is given as xbar, ubar"
   ]
  },
  {
   "cell_type": "code",
   "execution_count": 10,
   "id": "0295a63f",
   "metadata": {},
   "outputs": [],
   "source": [
    "fun_unom = interp1d(t_index,ubar,axis=0)\n",
    "def get_traj_teval(t_eval) :\n",
    "    if len(t_eval) == 0 :\n",
    "        return [],[]\n",
    "    assert np.max(t_eval) <= t_index[-1]\n",
    "    def dfdt(t,x) :\n",
    "        u = fun_unom(t)\n",
    "        return np.squeeze(myModel.forward(x,u))\n",
    "\n",
    "    sol = solve_ivp(dfdt,(t_index[0],t_index[-1]),xi,t_eval=t_eval,rtol=1e-12,atol=1e-12)\n",
    "    return sol.y.T,fun_unom(t_eval)\n",
    "\n",
    "def forward_dt(dt,xi,u) :\n",
    "    def dfdt(t,x) :\n",
    "        return np.squeeze(myModel.forward(x,u))\n",
    "    sol = solve_ivp(dfdt,(0,dt),xi,rtol=1e-12,atol=1e-12)\n",
    "    return sol\n",
    "def get_H_obs(rx,ry) :\n",
    "    return np.diag([1/rx,1/ry])"
   ]
  },
  {
   "cell_type": "code",
   "execution_count": 11,
   "id": "0698dead",
   "metadata": {},
   "outputs": [
    {
     "name": "stdout",
     "output_type": "stream",
     "text": [
      "Nmpc: 20\n"
     ]
    }
   ],
   "source": [
    "tbar = np.array([i for i in range(N+1)]) / N * tfbar\n",
    "tfsim = 8\n",
    "horizon = 2\n",
    "dt = 0.1\n",
    "Nsim = int(tfsim / dt)\n",
    "Nmpc =  int(horizon / dt) # N+1 is total discretization points for state\n",
    "print(\"Nmpc: {:}\".format(Nmpc))\n",
    "\n",
    "xi_mpc = np.zeros(3)\n",
    "xi_mpc[0] = -5.0\n",
    "xi_mpc[1] = -4.0 \n",
    "xi_mpc[2] = 0"
   ]
  },
  {
   "cell_type": "code",
   "execution_count": 12,
   "id": "bfb9aa54",
   "metadata": {},
   "outputs": [],
   "source": [
    "# cost and constraint / model is identical\n",
    "MPC_Cost = UnicycleCost.unicycleMPC('Hello',ix,iu,Nmpc)\n",
    "MPC_Const = UnicycleConstraints.unicycleMPC('Hello',ix,iu)\n",
    "\n",
    "# # define optimal control\n",
    "MPC_controller = PTR_in_MPC('unicycle',Nmpc,horizon,max_iter,myModel,MPC_Cost,MPC_Const,myScaling,\n",
    "          type_discretization=\"zoh\",w_c=1,w_vc=1e3,w_bf=1e3,w_tr=1e-1,w_rate=0,\n",
    "                            tol_vc=1e-6,tol_bf=1e-3,tol_tr=1e-3)"
   ]
  },
  {
   "cell_type": "code",
   "execution_count": null,
   "id": "8602204b",
   "metadata": {
    "scrolled": true
   },
   "outputs": [],
   "source": [
    "t_curr = 0\n",
    "x_curr = np.copy(xi_mpc)\n",
    "\n",
    "t_save,x_save,u_save = [],[],[]\n",
    "t_save.append(t_curr)\n",
    "x_save.append(xi_mpc)\n",
    "\n",
    "t_traj,x_traj,u_traj = [],[],[]\n",
    "c_traj,H_traj = [],[]\n",
    "\n",
    "\n",
    "for _ in range(Nsim) :\n",
    "    print(\"t curr: {:.2f}  ======================\".format(t_curr))\n",
    "    # estimating nominal trajectory within horizon\n",
    "    t_horizon = np.array([t_curr + dt*i for i in range(Nmpc+1)])\n",
    "    t_eval = t_horizon[t_horizon <= tfbar]\n",
    "    t_end = t_horizon[t_horizon > tfbar]\n",
    "    xfwd,ufwd = get_traj_teval(t_eval)\n",
    "    for _ in t_end :\n",
    "        if len(xfwd) == 0 :\n",
    "            xfwd = xbar[-1]\n",
    "            ufwd = ubar[-1]\n",
    "        else :\n",
    "            xfwd = np.vstack((xfwd,xbar[-1]))\n",
    "            ufwd = np.vstack((ufwd,ubar[-1]))\n",
    "\n",
    "\n",
    "    # estimate the model of non-cooperative agent\n",
    "    cobs,Hobs = [],[]\n",
    "    # static obstacle\n",
    "    c = []\n",
    "    H = []\n",
    "    for i in range(Nmpc+1) :\n",
    "        cobs.append(c)\n",
    "        Hobs.append(H)\n",
    "        \n",
    "    \n",
    "    # solve optimal control\n",
    "    # initiall condition\n",
    "    if t_curr == 0 :\n",
    "        x0 = xfwd\n",
    "        u0 = ufwd\n",
    "    else :\n",
    "        x0 = np.copy(xmpc)\n",
    "        x0[:Nmpc] = xmpc[1:]\n",
    "        u0 = np.copy(umpc)\n",
    "        u0[:Nmpc] = umpc[1:]\n",
    "\n",
    "\n",
    "    _,_,xmpc,umpc,num_iter,flag_boundary,l,l_vc,l_tr,_,_,_  = MPC_controller.run(x0,u0,x_curr,xfwd,ufwd,cobs,Hobs)\n",
    "\n",
    "    # apply input to the system (integration)\n",
    "    sol = forward_dt(dt,x_curr,umpc[0])\n",
    "    t_curr += dt\n",
    "    x_curr = sol.y.T[-1]\n",
    "\n",
    "    # save\n",
    "    t_save.append(t_curr)\n",
    "    x_save.append(x_curr)\n",
    "    u_save.append(umpc[0])\n",
    "\n",
    "    t_traj.append(t_horizon)\n",
    "    x_traj.append(xmpc)\n",
    "    u_traj.append(umpc)\n",
    "#     break\n",
    "\n",
    "x_save = np.array(x_save)\n",
    "u_save = np.array(u_save)"
   ]
  },
  {
   "cell_type": "code",
   "execution_count": null,
   "id": "beb98c43",
   "metadata": {},
   "outputs": [],
   "source": [
    "plt.figure(figsize=(15,10))\n",
    "fS = 18\n",
    "plt.subplot(231)\n",
    "plt.plot(xbar[:,0], xbar[:,1],'--', linewidth=2.0)\n",
    "plt.plot(x_save[:,0], x_save[:,1],'-', linewidth=2.0)\n",
    "plt.plot(xf[0],xf[1],\"o\",label='goal')\n",
    "plt.gca().set_aspect('equal', adjustable='box')\n",
    "plt.axis([-6, 6, -6, 6])\n",
    "plt.xlabel('X (m)', fontsize = fS)\n",
    "plt.ylabel('Y (m)', fontsize = fS)\n",
    "plt.subplot(232)\n",
    "plt.plot(t_index, xbar[:,0],'--', linewidth=2.0)\n",
    "plt.plot(t_save, x_save[:,0],'-',linewidth=2.0)\n",
    "plt.xlabel('time (s)', fontsize = fS)\n",
    "plt.ylabel('x1 (m)', fontsize = fS)\n",
    "plt.subplot(233)\n",
    "plt.plot(t_index, xbar[:,1],'--',linewidth=2.0)\n",
    "plt.plot(t_save, x_save[:,1],'-',linewidth=2.0)\n",
    "plt.xlabel('time (s)', fontsize = fS)\n",
    "plt.ylabel('x2 (m)', fontsize = fS)\n",
    "plt.subplot(234)\n",
    "plt.plot(t_index, np.rad2deg(xbar[:,2]),'--',linewidth=2.0)\n",
    "plt.plot(t_save, np.rad2deg(x_save[:,2]),'-',linewidth=2.0)\n",
    "plt.xlabel('time (s)', fontsize = fS)\n",
    "plt.ylabel('x3 (rad)', fontsize = fS)\n",
    "plt.subplot(235)\n",
    "plt.plot(t_index, ubar[:,0],'--',linewidth=2.0)\n",
    "plt.step(t_save,[*u_save[:,0],u_save[-1,0]],label='zoh',where='post')\n",
    "plt.xlabel('time (s)', fontsize = fS)\n",
    "plt.ylabel('v (m/s)', fontsize = fS)\n",
    "plt.subplot(236)\n",
    "plt.plot(t_index, np.rad2deg(ubar[:,1]),'--',linewidth=2.0)\n",
    "plt.step(t_save,np.rad2deg([*u_save[:,1],u_save[-1,1]]),label='zoh',where='post')\n",
    "plt.xlabel('time (s)', fontsize = fS)\n",
    "plt.ylabel('w (rad/s)', fontsize = fS)\n",
    "plt.show()"
   ]
  },
  {
   "cell_type": "markdown",
   "id": "7ec609de",
   "metadata": {},
   "source": [
    "## make a video"
   ]
  },
  {
   "cell_type": "code",
   "execution_count": null,
   "id": "f9b973c1",
   "metadata": {},
   "outputs": [],
   "source": [
    "from matplotlib.patches import Rectangle,Ellipse\n",
    "import imageio\n",
    "import os"
   ]
  },
  {
   "cell_type": "code",
   "execution_count": null,
   "id": "6123793b",
   "metadata": {},
   "outputs": [],
   "source": [
    "filenames = []\n",
    "for idx in range(Nsim+1) :\n",
    "    fig = plt.figure(figsize=(10,10))\n",
    "    ax = fig.add_subplot(111)\n",
    "    fS = 15\n",
    "    plt.plot(xbar[:,0], xbar[:,1],'--', linewidth=2.0,label='nominal trajectory')\n",
    "    plt.plot(x_save[:idx+1,0], x_save[:idx+1,1],'-', linewidth=2.0,label='result trajectory')\n",
    "    if idx < Nsim :\n",
    "        plt.plot(x_traj[idx][:,0], x_traj[idx][:,1],'-',color='tab:green', linewidth=2.0,label='future prediction')\n",
    "        plt.plot(x_traj[idx][0,0], x_traj[idx][0,1],'o',color='tab:green', linewidth=2.0)\n",
    "    for ce,H in zip(cobs,Hobs) :\n",
    "        rx = 1/H[0,0]\n",
    "        ry = 1/H[1,1]\n",
    "        circle1 = Ellipse((ce[0],ce[1]),rx*2,ry*2,color='tab:red',alpha=0.03,fill=True)\n",
    "        ax.add_patch(circle1)\n",
    "    plt.gca().set_aspect('equal', adjustable='box')\n",
    "    plt.axis([-6, 6, -6, 6])\n",
    "    plt.xlabel('X (m)', fontsize = fS)\n",
    "    plt.ylabel('Y (m)', fontsize = fS)\n",
    "    plt.legend(fontsize=fS)\n",
    "\n",
    "    filename = '../images/{:d}.png'.format(idx)\n",
    "    plt.savefig(filename)\n",
    "    filenames.append(filename)\n",
    "    plt.close()"
   ]
  },
  {
   "cell_type": "code",
   "execution_count": null,
   "id": "9f492eb6",
   "metadata": {},
   "outputs": [],
   "source": [
    "img_name = 'MPC_static_obstacle'\n",
    "with imageio.get_writer('../images/'+img_name+'.gif', mode='I') as writer:\n",
    "        for filename in filenames:\n",
    "            image = imageio.imread(filename)\n",
    "            writer.append_data(image)\n",
    "for filename in set(filenames):\n",
    "    os.remove(filename)"
   ]
  },
  {
   "cell_type": "code",
   "execution_count": null,
   "id": "8bc2ba1a",
   "metadata": {},
   "outputs": [],
   "source": []
  }
 ],
 "metadata": {
  "kernelspec": {
   "display_name": "Python 3 (ipykernel)",
   "language": "python",
   "name": "python3"
  },
  "language_info": {
   "codemirror_mode": {
    "name": "ipython",
    "version": 3
   },
   "file_extension": ".py",
   "mimetype": "text/x-python",
   "name": "python",
   "nbconvert_exporter": "python",
   "pygments_lexer": "ipython3",
   "version": "3.9.13"
  }
 },
 "nbformat": 4,
 "nbformat_minor": 5
}
